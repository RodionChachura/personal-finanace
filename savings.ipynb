{
 "cells": [
  {
   "cell_type": "code",
   "execution_count": 119,
   "id": "d9e5512c-4034-4427-b172-c401e17980b2",
   "metadata": {},
   "outputs": [],
   "source": [
    "months_in_year = 12\n",
    "def get_inflation(annual_inflation, months):\n",
    "    return pow(1 + annual_inflation, months / months_in_year) - 1"
   ]
  },
  {
   "cell_type": "code",
   "execution_count": 120,
   "id": "d77382cd-b223-473d-aa35-75a1dc9e8dc3",
   "metadata": {},
   "outputs": [],
   "source": [
    "def get_inflation_adjusted_amount(amount, annual_inflation, months):\n",
    "    return pow(1 + annual_inflation, months / months_in_year) * amount"
   ]
  },
  {
   "cell_type": "code",
   "execution_count": 121,
   "id": "e842cfc6-9388-43ee-b6ce-ce862ee5a016",
   "metadata": {},
   "outputs": [],
   "source": [
    "def get_savings(monthly_budget, months_number, annual_inflation, emergency_fund = 0):\n",
    "    current_monthly_spend = monthly_budget + (emergency_fund / months_number)\n",
    "    \n",
    "    inflation_adjusted_budget = list(map(\n",
    "        lambda month_index: get_inflation_adjusted_amount(current_monthly_spend, annual_inflation, month_index + 1),\n",
    "        range(months_number)\n",
    "    ))\n",
    "    \n",
    "    # print(inflation_adjusted_budget)\n",
    "    \n",
    "    return sum(inflation_adjusted_budget)"
   ]
  },
  {
   "cell_type": "code",
   "execution_count": 122,
   "id": "1ef11974-4de5-47ed-9a96-0cd0fff30ad4",
   "metadata": {},
   "outputs": [],
   "source": [
    "# USD inflation source: https://inflationchart.com\n",
    "annual_currency_inflation = 0.17\n",
    "currency_symbol = 'USD'"
   ]
  },
  {
   "cell_type": "code",
   "execution_count": 123,
   "id": "8d93502e-a231-40aa-8048-2a67b335cad1",
   "metadata": {},
   "outputs": [
    {
     "name": "stdout",
     "output_type": "stream",
     "text": [
      "Min savings amount: 30517 USD\n"
     ]
    }
   ],
   "source": [
    "monthly_lean_budget = 1500\n",
    "months_number = 12\n",
    "emergency_fund = 10000\n",
    "\n",
    "savings = get_savings(\n",
    "    monthly_lean_budget,\n",
    "    months_number,\n",
    "    annual_currency_inflation,\n",
    "    emergency_fund\n",
    ")\n",
    "\n",
    "print(f'Min savings amount: {round(savings)} {currency_symbol}')"
   ]
  }
 ],
 "metadata": {
  "kernelspec": {
   "display_name": "Python 3 (ipykernel)",
   "language": "python",
   "name": "python3"
  },
  "language_info": {
   "codemirror_mode": {
    "name": "ipython",
    "version": 3
   },
   "file_extension": ".py",
   "mimetype": "text/x-python",
   "name": "python",
   "nbconvert_exporter": "python",
   "pygments_lexer": "ipython3",
   "version": "3.9.9"
  }
 },
 "nbformat": 4,
 "nbformat_minor": 5
}
